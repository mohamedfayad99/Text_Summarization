{
 "cells": [
  {
   "cell_type": "code",
   "execution_count": 1,
   "metadata": {
    "id": "zKV5WjyAD3hK"
   },
   "outputs": [],
   "source": [
    "text = \"\"\"\"The rapid advancement of artificial intelligence (AI) has revolutionized various industries, including healthcare, finance, transportation, and entertainment. AI technologies, such as machine learning and natural language processing, have enabled computers to perform tasks that previously required human intelligence. From diagnosing diseases and predicting stock market trends to autonomous vehicles and virtual assistants, AI has become an integral part of our daily lives.\n",
    "One of the significant applications of AI is in healthcare. Machine learning algorithms can analyze large amounts of medical data to assist in the early detection of diseases, identify patterns in patient records, and recommend personalized treatment plans. AI-powered diagnostic tools have shown promising results in detecting conditions like cancer, cardiovascular diseases, and neurological disorders, potentially saving lives and improving patient outcomes.\n",
    "In the financial sector, AI algorithms are utilized for fraud detection, risk assessment, and algorithmic trading. These systems can analyze vast volumes of financial data in real-time, identify unusual patterns or transactions, and promptly alert authorities or financial institutions. Additionally, AI-powered chatbots and virtual assistants are transforming customer service by providing instant support and personalized recommendations to users.\n",
    "Transportation has also witnessed significant advancements with AI. Self-driving cars and autonomous drones are being developed to improve road safety, enhance traffic management, and streamline logistics operations. AI algorithms can process sensor data, interpret complex environments, and make real-time decisions, enabling vehicles to navigate autonomously and avoid accidents. Furthermore, ride-sharing platforms leverage AI to optimize routes, match drivers with passengers, and enhance the overall user experience.\n",
    "In the entertainment industry, AI has played a crucial role in content recommendation and creation. Streaming platforms and social media websites utilize machine learning algorithms to analyze user preferences and behavior, suggesting personalized movies, shows, or music. AI-powered systems can also generate creative content, such as artwork, music compositions, and even movie scripts, providing new possibilities for artists and filmmakers.\n",
    "Despite the numerous benefits of AI, there are also concerns regarding ethics, privacy, and job displacement. As AI continues to advance, it is essential to address these challenges and ensure responsible and transparent AI development. Implementing robust regulations, ethical guidelines, and mechanisms for accountability will be crucial to harness the potential of AI while mitigating potential risks.\n",
    "In conclusion, AI has transformed various industries, offering innovative solutions and driving unprecedented progress. With its ability to analyze vast amounts of data, recognize patterns, and make intelligent decisions, AI is poised to shape the future and revolutionize the way we live and work.\"\"\""
   ]
  },
  {
   "cell_type": "code",
   "execution_count": 2,
   "metadata": {
    "colab": {
     "base_uri": "https://localhost:8080/"
    },
    "id": "0ziChjsUEd5u",
    "outputId": "c046cfdb-0e17-46cb-cff0-1cfee51d6422"
   },
   "outputs": [
    {
     "name": "stdout",
     "output_type": "stream",
     "text": [
      "Requirement already satisfied: spacy in c:\\users\\محمود علي خضر\\appdata\\local\\programs\\python\\python310\\lib\\site-packages (3.5.3)\n",
      "Requirement already satisfied: spacy-legacy<3.1.0,>=3.0.11 in c:\\users\\محمود علي خضر\\appdata\\local\\programs\\python\\python310\\lib\\site-packages (from spacy) (3.0.12)\n",
      "Requirement already satisfied: spacy-loggers<2.0.0,>=1.0.0 in c:\\users\\محمود علي خضر\\appdata\\local\\programs\\python\\python310\\lib\\site-packages (from spacy) (1.0.4)\n",
      "Requirement already satisfied: murmurhash<1.1.0,>=0.28.0 in c:\\users\\محمود علي خضر\\appdata\\local\\programs\\python\\python310\\lib\\site-packages (from spacy) (1.0.9)\n",
      "Requirement already satisfied: cymem<2.1.0,>=2.0.2 in c:\\users\\محمود علي خضر\\appdata\\local\\programs\\python\\python310\\lib\\site-packages (from spacy) (2.0.7)\n",
      "Requirement already satisfied: preshed<3.1.0,>=3.0.2 in c:\\users\\محمود علي خضر\\appdata\\local\\programs\\python\\python310\\lib\\site-packages (from spacy) (3.0.8)\n",
      "Requirement already satisfied: thinc<8.2.0,>=8.1.8 in c:\\users\\محمود علي خضر\\appdata\\local\\programs\\python\\python310\\lib\\site-packages (from spacy) (8.1.10)\n",
      "Requirement already satisfied: wasabi<1.2.0,>=0.9.1 in c:\\users\\محمود علي خضر\\appdata\\local\\programs\\python\\python310\\lib\\site-packages (from spacy) (1.1.1)\n",
      "Requirement already satisfied: srsly<3.0.0,>=2.4.3 in c:\\users\\محمود علي خضر\\appdata\\local\\programs\\python\\python310\\lib\\site-packages (from spacy) (2.4.6)\n",
      "Requirement already satisfied: catalogue<2.1.0,>=2.0.6 in c:\\users\\محمود علي خضر\\appdata\\local\\programs\\python\\python310\\lib\\site-packages (from spacy) (2.0.8)\n",
      "Requirement already satisfied: typer<0.8.0,>=0.3.0 in c:\\users\\محمود علي خضر\\appdata\\local\\programs\\python\\python310\\lib\\site-packages (from spacy) (0.7.0)\n",
      "Requirement already satisfied: pathy>=0.10.0 in c:\\users\\محمود علي خضر\\appdata\\local\\programs\\python\\python310\\lib\\site-packages (from spacy) (0.10.1)\n",
      "Requirement already satisfied: smart-open<7.0.0,>=5.2.1 in c:\\users\\محمود علي خضر\\appdata\\local\\programs\\python\\python310\\lib\\site-packages (from spacy) (6.3.0)\n",
      "Requirement already satisfied: tqdm<5.0.0,>=4.38.0 in c:\\users\\محمود علي خضر\\appdata\\local\\programs\\python\\python310\\lib\\site-packages (from spacy) (4.65.0)\n",
      "Requirement already satisfied: numpy>=1.15.0 in c:\\users\\محمود علي خضر\\appdata\\local\\programs\\python\\python310\\lib\\site-packages (from spacy) (1.24.3)\n",
      "Requirement already satisfied: requests<3.0.0,>=2.13.0 in c:\\users\\محمود علي خضر\\appdata\\local\\programs\\python\\python310\\lib\\site-packages (from spacy) (2.30.0)\n",
      "Requirement already satisfied: pydantic!=1.8,!=1.8.1,<1.11.0,>=1.7.4 in c:\\users\\محمود علي خضر\\appdata\\local\\programs\\python\\python310\\lib\\site-packages (from spacy) (1.10.7)\n",
      "Requirement already satisfied: jinja2 in c:\\users\\محمود علي خضر\\appdata\\local\\programs\\python\\python310\\lib\\site-packages (from spacy) (3.1.2)\n",
      "Requirement already satisfied: setuptools in c:\\users\\محمود علي خضر\\appdata\\local\\programs\\python\\python310\\lib\\site-packages (from spacy) (63.2.0)\n",
      "Requirement already satisfied: packaging>=20.0 in c:\\users\\محمود علي خضر\\appdata\\local\\programs\\python\\python310\\lib\\site-packages (from spacy) (23.1)\n",
      "Requirement already satisfied: langcodes<4.0.0,>=3.2.0 in c:\\users\\محمود علي خضر\\appdata\\local\\programs\\python\\python310\\lib\\site-packages (from spacy) (3.3.0)\n",
      "Requirement already satisfied: typing-extensions>=4.2.0 in c:\\users\\محمود علي خضر\\appdata\\local\\programs\\python\\python310\\lib\\site-packages (from pydantic!=1.8,!=1.8.1,<1.11.0,>=1.7.4->spacy) (4.5.0)\n",
      "Requirement already satisfied: charset-normalizer<4,>=2 in c:\\users\\محمود علي خضر\\appdata\\local\\programs\\python\\python310\\lib\\site-packages (from requests<3.0.0,>=2.13.0->spacy) (3.1.0)\n",
      "Requirement already satisfied: idna<4,>=2.5 in c:\\users\\محمود علي خضر\\appdata\\local\\programs\\python\\python310\\lib\\site-packages (from requests<3.0.0,>=2.13.0->spacy) (3.4)\n",
      "Requirement already satisfied: urllib3<3,>=1.21.1 in c:\\users\\محمود علي خضر\\appdata\\local\\programs\\python\\python310\\lib\\site-packages (from requests<3.0.0,>=2.13.0->spacy) (2.0.2)\n",
      "Requirement already satisfied: certifi>=2017.4.17 in c:\\users\\محمود علي خضر\\appdata\\local\\programs\\python\\python310\\lib\\site-packages (from requests<3.0.0,>=2.13.0->spacy) (2023.5.7)\n",
      "Requirement already satisfied: blis<0.8.0,>=0.7.8 in c:\\users\\محمود علي خضر\\appdata\\local\\programs\\python\\python310\\lib\\site-packages (from thinc<8.2.0,>=8.1.8->spacy) (0.7.9)\n",
      "Requirement already satisfied: confection<1.0.0,>=0.0.1 in c:\\users\\محمود علي خضر\\appdata\\local\\programs\\python\\python310\\lib\\site-packages (from thinc<8.2.0,>=8.1.8->spacy) (0.0.4)\n",
      "Requirement already satisfied: colorama in c:\\users\\محمود علي خضر\\appdata\\local\\programs\\python\\python310\\lib\\site-packages (from tqdm<5.0.0,>=4.38.0->spacy) (0.4.6)\n",
      "Requirement already satisfied: click<9.0.0,>=7.1.1 in c:\\users\\محمود علي خضر\\appdata\\local\\programs\\python\\python310\\lib\\site-packages (from typer<0.8.0,>=0.3.0->spacy) (8.1.3)\n",
      "Requirement already satisfied: MarkupSafe>=2.0 in c:\\users\\محمود علي خضر\\appdata\\local\\programs\\python\\python310\\lib\\site-packages (from jinja2->spacy) (2.1.2)\n",
      "Note: you may need to restart the kernel to use updated packages.\n"
     ]
    }
   ],
   "source": [
    "pip install spacy"
   ]
  },
  {
   "cell_type": "code",
   "execution_count": 3,
   "metadata": {
    "id": "uHklu2H6FXf0"
   },
   "outputs": [],
   "source": [
    "import spacy\n",
    "from spacy.lang.en.stop_words import STOP_WORDS\n",
    "from string import punctuation"
   ]
  },
  {
   "cell_type": "code",
   "execution_count": 4,
   "metadata": {
    "id": "1j0tDOs3Ftkr"
   },
   "outputs": [],
   "source": [
    "nlp = spacy.load('en_core_web_sm')"
   ]
  },
  {
   "cell_type": "code",
   "execution_count": 5,
   "metadata": {
    "id": "9lslmg_sFtni"
   },
   "outputs": [],
   "source": [
    "doc = nlp(text)"
   ]
  },
  {
   "cell_type": "code",
   "execution_count": 6,
   "metadata": {
    "colab": {
     "base_uri": "https://localhost:8080/"
    },
    "id": "NMwiZtuqFtqD",
    "outputId": "29f34c94-5b6c-472a-aa3d-fb3edb5962dc"
   },
   "outputs": [
    {
     "name": "stdout",
     "output_type": "stream",
     "text": [
      "['\"', 'The', 'rapid', 'advancement', 'of', 'artificial', 'intelligence', '(', 'AI', ')', 'has', 'revolutionized', 'various', 'industries', ',', 'including', 'healthcare', ',', 'finance', ',', 'transportation', ',', 'and', 'entertainment', '.', 'AI', 'technologies', ',', 'such', 'as', 'machine', 'learning', 'and', 'natural', 'language', 'processing', ',', 'have', 'enabled', 'computers', 'to', 'perform', 'tasks', 'that', 'previously', 'required', 'human', 'intelligence', '.', 'From', 'diagnosing', 'diseases', 'and', 'predicting', 'stock', 'market', 'trends', 'to', 'autonomous', 'vehicles', 'and', 'virtual', 'assistants', ',', 'AI', 'has', 'become', 'an', 'integral', 'part', 'of', 'our', 'daily', 'lives', '.', '\\n', 'One', 'of', 'the', 'significant', 'applications', 'of', 'AI', 'is', 'in', 'healthcare', '.', 'Machine', 'learning', 'algorithms', 'can', 'analyze', 'large', 'amounts', 'of', 'medical', 'data', 'to', 'assist', 'in', 'the', 'early', 'detection', 'of', 'diseases', ',', 'identify', 'patterns', 'in', 'patient', 'records', ',', 'and', 'recommend', 'personalized', 'treatment', 'plans', '.', 'AI', '-', 'powered', 'diagnostic', 'tools', 'have', 'shown', 'promising', 'results', 'in', 'detecting', 'conditions', 'like', 'cancer', ',', 'cardiovascular', 'diseases', ',', 'and', 'neurological', 'disorders', ',', 'potentially', 'saving', 'lives', 'and', 'improving', 'patient', 'outcomes', '.', '\\n', 'In', 'the', 'financial', 'sector', ',', 'AI', 'algorithms', 'are', 'utilized', 'for', 'fraud', 'detection', ',', 'risk', 'assessment', ',', 'and', 'algorithmic', 'trading', '.', 'These', 'systems', 'can', 'analyze', 'vast', 'volumes', 'of', 'financial', 'data', 'in', 'real', '-', 'time', ',', 'identify', 'unusual', 'patterns', 'or', 'transactions', ',', 'and', 'promptly', 'alert', 'authorities', 'or', 'financial', 'institutions', '.', 'Additionally', ',', 'AI', '-', 'powered', 'chatbots', 'and', 'virtual', 'assistants', 'are', 'transforming', 'customer', 'service', 'by', 'providing', 'instant', 'support', 'and', 'personalized', 'recommendations', 'to', 'users', '.', '\\n', 'Transportation', 'has', 'also', 'witnessed', 'significant', 'advancements', 'with', 'AI', '.', 'Self', '-', 'driving', 'cars', 'and', 'autonomous', 'drones', 'are', 'being', 'developed', 'to', 'improve', 'road', 'safety', ',', 'enhance', 'traffic', 'management', ',', 'and', 'streamline', 'logistics', 'operations', '.', 'AI', 'algorithms', 'can', 'process', 'sensor', 'data', ',', 'interpret', 'complex', 'environments', ',', 'and', 'make', 'real', '-', 'time', 'decisions', ',', 'enabling', 'vehicles', 'to', 'navigate', 'autonomously', 'and', 'avoid', 'accidents', '.', 'Furthermore', ',', 'ride', '-', 'sharing', 'platforms', 'leverage', 'AI', 'to', 'optimize', 'routes', ',', 'match', 'drivers', 'with', 'passengers', ',', 'and', 'enhance', 'the', 'overall', 'user', 'experience', '.', '\\n', 'In', 'the', 'entertainment', 'industry', ',', 'AI', 'has', 'played', 'a', 'crucial', 'role', 'in', 'content', 'recommendation', 'and', 'creation', '.', 'Streaming', 'platforms', 'and', 'social', 'media', 'websites', 'utilize', 'machine', 'learning', 'algorithms', 'to', 'analyze', 'user', 'preferences', 'and', 'behavior', ',', 'suggesting', 'personalized', 'movies', ',', 'shows', ',', 'or', 'music', '.', 'AI', '-', 'powered', 'systems', 'can', 'also', 'generate', 'creative', 'content', ',', 'such', 'as', 'artwork', ',', 'music', 'compositions', ',', 'and', 'even', 'movie', 'scripts', ',', 'providing', 'new', 'possibilities', 'for', 'artists', 'and', 'filmmakers', '.', '\\n', 'Despite', 'the', 'numerous', 'benefits', 'of', 'AI', ',', 'there', 'are', 'also', 'concerns', 'regarding', 'ethics', ',', 'privacy', ',', 'and', 'job', 'displacement', '.', 'As', 'AI', 'continues', 'to', 'advance', ',', 'it', 'is', 'essential', 'to', 'address', 'these', 'challenges', 'and', 'ensure', 'responsible', 'and', 'transparent', 'AI', 'development', '.', 'Implementing', 'robust', 'regulations', ',', 'ethical', 'guidelines', ',', 'and', 'mechanisms', 'for', 'accountability', 'will', 'be', 'crucial', 'to', 'harness', 'the', 'potential', 'of', 'AI', 'while', 'mitigating', 'potential', 'risks', '.', '\\n', 'In', 'conclusion', ',', 'AI', 'has', 'transformed', 'various', 'industries', ',', 'offering', 'innovative', 'solutions', 'and', 'driving', 'unprecedented', 'progress', '.', 'With', 'its', 'ability', 'to', 'analyze', 'vast', 'amounts', 'of', 'data', ',', 'recognize', 'patterns', ',', 'and', 'make', 'intelligent', 'decisions', ',', 'AI', 'is', 'poised', 'to', 'shape', 'the', 'future', 'and', 'revolutionize', 'the', 'way', 'we', 'live', 'and', 'work', '.']\n"
     ]
    }
   ],
   "source": [
    "tokens = [token.text for token in doc]\n",
    "print(tokens)"
   ]
  },
  {
   "cell_type": "code",
   "execution_count": 7,
   "metadata": {
    "id": "Ze_s04ffFtsj"
   },
   "outputs": [],
   "source": [
    "punctuation = punctuation + '\\n'"
   ]
  },
  {
   "cell_type": "markdown",
   "metadata": {
    "id": "odnOAXvYGa1s"
   },
   "source": [
    "**Text Cleaning**"
   ]
  },
  {
   "cell_type": "code",
   "execution_count": 8,
   "metadata": {
    "colab": {
     "base_uri": "https://localhost:8080/"
    },
    "id": "x_vGgDylGZQ8",
    "outputId": "3e230b37-d47e-49db-98d6-84a9ef38b915"
   },
   "outputs": [
    {
     "name": "stdout",
     "output_type": "stream",
     "text": [
      "{'rapid': 1, 'advancement': 1, 'artificial': 1, 'intelligence': 2, 'AI': 18, 'revolutionized': 1, 'industries': 2, 'including': 1, 'healthcare': 2, 'finance': 1, 'transportation': 1, 'entertainment': 2, 'technologies': 1, 'machine': 2, 'learning': 3, 'natural': 1, 'language': 1, 'processing': 1, 'enabled': 1, 'computers': 1, 'perform': 1, 'tasks': 1, 'previously': 1, 'required': 1, 'human': 1, 'diagnosing': 1, 'diseases': 3, 'predicting': 1, 'stock': 1, 'market': 1, 'trends': 1, 'autonomous': 2, 'vehicles': 2, 'virtual': 2, 'assistants': 2, 'integral': 1, 'daily': 1, 'lives': 2, 'significant': 2, 'applications': 1, 'Machine': 1, 'algorithms': 4, 'analyze': 4, 'large': 1, 'amounts': 2, 'medical': 1, 'data': 4, 'assist': 1, 'early': 1, 'detection': 2, 'identify': 2, 'patterns': 3, 'patient': 2, 'records': 1, 'recommend': 1, 'personalized': 3, 'treatment': 1, 'plans': 1, 'powered': 3, 'diagnostic': 1, 'tools': 1, 'shown': 1, 'promising': 1, 'results': 1, 'detecting': 1, 'conditions': 1, 'like': 1, 'cancer': 1, 'cardiovascular': 1, 'neurological': 1, 'disorders': 1, 'potentially': 1, 'saving': 1, 'improving': 1, 'outcomes': 1, 'financial': 3, 'sector': 1, 'utilized': 1, 'fraud': 1, 'risk': 1, 'assessment': 1, 'algorithmic': 1, 'trading': 1, 'systems': 2, 'vast': 2, 'volumes': 1, 'real': 2, 'time': 2, 'unusual': 1, 'transactions': 1, 'promptly': 1, 'alert': 1, 'authorities': 1, 'institutions': 1, 'Additionally': 1, 'chatbots': 1, 'transforming': 1, 'customer': 1, 'service': 1, 'providing': 2, 'instant': 1, 'support': 1, 'recommendations': 1, 'users': 1, 'Transportation': 1, 'witnessed': 1, 'advancements': 1, 'Self': 1, 'driving': 2, 'cars': 1, 'drones': 1, 'developed': 1, 'improve': 1, 'road': 1, 'safety': 1, 'enhance': 2, 'traffic': 1, 'management': 1, 'streamline': 1, 'logistics': 1, 'operations': 1, 'process': 1, 'sensor': 1, 'interpret': 1, 'complex': 1, 'environments': 1, 'decisions': 2, 'enabling': 1, 'navigate': 1, 'autonomously': 1, 'avoid': 1, 'accidents': 1, 'Furthermore': 1, 'ride': 1, 'sharing': 1, 'platforms': 2, 'leverage': 1, 'optimize': 1, 'routes': 1, 'match': 1, 'drivers': 1, 'passengers': 1, 'overall': 1, 'user': 2, 'experience': 1, 'industry': 1, 'played': 1, 'crucial': 2, 'role': 1, 'content': 2, 'recommendation': 1, 'creation': 1, 'Streaming': 1, 'social': 1, 'media': 1, 'websites': 1, 'utilize': 1, 'preferences': 1, 'behavior': 1, 'suggesting': 1, 'movies': 1, 'shows': 1, 'music': 2, 'generate': 1, 'creative': 1, 'artwork': 1, 'compositions': 1, 'movie': 1, 'scripts': 1, 'new': 1, 'possibilities': 1, 'artists': 1, 'filmmakers': 1, 'Despite': 1, 'numerous': 1, 'benefits': 1, 'concerns': 1, 'ethics': 1, 'privacy': 1, 'job': 1, 'displacement': 1, 'continues': 1, 'advance': 1, 'essential': 1, 'address': 1, 'challenges': 1, 'ensure': 1, 'responsible': 1, 'transparent': 1, 'development': 1, 'Implementing': 1, 'robust': 1, 'regulations': 1, 'ethical': 1, 'guidelines': 1, 'mechanisms': 1, 'accountability': 1, 'harness': 1, 'potential': 2, 'mitigating': 1, 'risks': 1, 'conclusion': 1, 'transformed': 1, 'offering': 1, 'innovative': 1, 'solutions': 1, 'unprecedented': 1, 'progress': 1, 'ability': 1, 'recognize': 1, 'intelligent': 1, 'poised': 1, 'shape': 1, 'future': 1, 'revolutionize': 1, 'way': 1, 'live': 1, 'work': 1}\n"
     ]
    }
   ],
   "source": [
    "word_freq = {}\n",
    "stop_words = list(STOP_WORDS)\n",
    "\n",
    "for word in doc:\n",
    "  if word.text.lower() not in stop_words:\n",
    "    if word.text.lower() not in punctuation:\n",
    "      if word.text not in word_freq.keys():\n",
    "        word_freq[word.text] = 1\n",
    "      else:\n",
    "        word_freq[word.text] += 1\n",
    "\n",
    "\n",
    "print(word_freq)"
   ]
  },
  {
   "cell_type": "code",
   "execution_count": 9,
   "metadata": {
    "id": "P_sIClC5GZTK"
   },
   "outputs": [],
   "source": [
    "max_freq= max(word_freq.values())"
   ]
  },
  {
   "cell_type": "code",
   "execution_count": 10,
   "metadata": {
    "colab": {
     "base_uri": "https://localhost:8080/"
    },
    "id": "aklvUOCSGZU7",
    "outputId": "29d758bc-c717-498e-9c8f-24a00aed8530"
   },
   "outputs": [
    {
     "name": "stdout",
     "output_type": "stream",
     "text": [
      "{'rapid': 0.05555555555555555, 'advancement': 0.05555555555555555, 'artificial': 0.05555555555555555, 'intelligence': 0.1111111111111111, 'AI': 1.0, 'revolutionized': 0.05555555555555555, 'industries': 0.1111111111111111, 'including': 0.05555555555555555, 'healthcare': 0.1111111111111111, 'finance': 0.05555555555555555, 'transportation': 0.05555555555555555, 'entertainment': 0.1111111111111111, 'technologies': 0.05555555555555555, 'machine': 0.1111111111111111, 'learning': 0.16666666666666666, 'natural': 0.05555555555555555, 'language': 0.05555555555555555, 'processing': 0.05555555555555555, 'enabled': 0.05555555555555555, 'computers': 0.05555555555555555, 'perform': 0.05555555555555555, 'tasks': 0.05555555555555555, 'previously': 0.05555555555555555, 'required': 0.05555555555555555, 'human': 0.05555555555555555, 'diagnosing': 0.05555555555555555, 'diseases': 0.16666666666666666, 'predicting': 0.05555555555555555, 'stock': 0.05555555555555555, 'market': 0.05555555555555555, 'trends': 0.05555555555555555, 'autonomous': 0.1111111111111111, 'vehicles': 0.1111111111111111, 'virtual': 0.1111111111111111, 'assistants': 0.1111111111111111, 'integral': 0.05555555555555555, 'daily': 0.05555555555555555, 'lives': 0.1111111111111111, 'significant': 0.1111111111111111, 'applications': 0.05555555555555555, 'Machine': 0.05555555555555555, 'algorithms': 0.2222222222222222, 'analyze': 0.2222222222222222, 'large': 0.05555555555555555, 'amounts': 0.1111111111111111, 'medical': 0.05555555555555555, 'data': 0.2222222222222222, 'assist': 0.05555555555555555, 'early': 0.05555555555555555, 'detection': 0.1111111111111111, 'identify': 0.1111111111111111, 'patterns': 0.16666666666666666, 'patient': 0.1111111111111111, 'records': 0.05555555555555555, 'recommend': 0.05555555555555555, 'personalized': 0.16666666666666666, 'treatment': 0.05555555555555555, 'plans': 0.05555555555555555, 'powered': 0.16666666666666666, 'diagnostic': 0.05555555555555555, 'tools': 0.05555555555555555, 'shown': 0.05555555555555555, 'promising': 0.05555555555555555, 'results': 0.05555555555555555, 'detecting': 0.05555555555555555, 'conditions': 0.05555555555555555, 'like': 0.05555555555555555, 'cancer': 0.05555555555555555, 'cardiovascular': 0.05555555555555555, 'neurological': 0.05555555555555555, 'disorders': 0.05555555555555555, 'potentially': 0.05555555555555555, 'saving': 0.05555555555555555, 'improving': 0.05555555555555555, 'outcomes': 0.05555555555555555, 'financial': 0.16666666666666666, 'sector': 0.05555555555555555, 'utilized': 0.05555555555555555, 'fraud': 0.05555555555555555, 'risk': 0.05555555555555555, 'assessment': 0.05555555555555555, 'algorithmic': 0.05555555555555555, 'trading': 0.05555555555555555, 'systems': 0.1111111111111111, 'vast': 0.1111111111111111, 'volumes': 0.05555555555555555, 'real': 0.1111111111111111, 'time': 0.1111111111111111, 'unusual': 0.05555555555555555, 'transactions': 0.05555555555555555, 'promptly': 0.05555555555555555, 'alert': 0.05555555555555555, 'authorities': 0.05555555555555555, 'institutions': 0.05555555555555555, 'Additionally': 0.05555555555555555, 'chatbots': 0.05555555555555555, 'transforming': 0.05555555555555555, 'customer': 0.05555555555555555, 'service': 0.05555555555555555, 'providing': 0.1111111111111111, 'instant': 0.05555555555555555, 'support': 0.05555555555555555, 'recommendations': 0.05555555555555555, 'users': 0.05555555555555555, 'Transportation': 0.05555555555555555, 'witnessed': 0.05555555555555555, 'advancements': 0.05555555555555555, 'Self': 0.05555555555555555, 'driving': 0.1111111111111111, 'cars': 0.05555555555555555, 'drones': 0.05555555555555555, 'developed': 0.05555555555555555, 'improve': 0.05555555555555555, 'road': 0.05555555555555555, 'safety': 0.05555555555555555, 'enhance': 0.1111111111111111, 'traffic': 0.05555555555555555, 'management': 0.05555555555555555, 'streamline': 0.05555555555555555, 'logistics': 0.05555555555555555, 'operations': 0.05555555555555555, 'process': 0.05555555555555555, 'sensor': 0.05555555555555555, 'interpret': 0.05555555555555555, 'complex': 0.05555555555555555, 'environments': 0.05555555555555555, 'decisions': 0.1111111111111111, 'enabling': 0.05555555555555555, 'navigate': 0.05555555555555555, 'autonomously': 0.05555555555555555, 'avoid': 0.05555555555555555, 'accidents': 0.05555555555555555, 'Furthermore': 0.05555555555555555, 'ride': 0.05555555555555555, 'sharing': 0.05555555555555555, 'platforms': 0.1111111111111111, 'leverage': 0.05555555555555555, 'optimize': 0.05555555555555555, 'routes': 0.05555555555555555, 'match': 0.05555555555555555, 'drivers': 0.05555555555555555, 'passengers': 0.05555555555555555, 'overall': 0.05555555555555555, 'user': 0.1111111111111111, 'experience': 0.05555555555555555, 'industry': 0.05555555555555555, 'played': 0.05555555555555555, 'crucial': 0.1111111111111111, 'role': 0.05555555555555555, 'content': 0.1111111111111111, 'recommendation': 0.05555555555555555, 'creation': 0.05555555555555555, 'Streaming': 0.05555555555555555, 'social': 0.05555555555555555, 'media': 0.05555555555555555, 'websites': 0.05555555555555555, 'utilize': 0.05555555555555555, 'preferences': 0.05555555555555555, 'behavior': 0.05555555555555555, 'suggesting': 0.05555555555555555, 'movies': 0.05555555555555555, 'shows': 0.05555555555555555, 'music': 0.1111111111111111, 'generate': 0.05555555555555555, 'creative': 0.05555555555555555, 'artwork': 0.05555555555555555, 'compositions': 0.05555555555555555, 'movie': 0.05555555555555555, 'scripts': 0.05555555555555555, 'new': 0.05555555555555555, 'possibilities': 0.05555555555555555, 'artists': 0.05555555555555555, 'filmmakers': 0.05555555555555555, 'Despite': 0.05555555555555555, 'numerous': 0.05555555555555555, 'benefits': 0.05555555555555555, 'concerns': 0.05555555555555555, 'ethics': 0.05555555555555555, 'privacy': 0.05555555555555555, 'job': 0.05555555555555555, 'displacement': 0.05555555555555555, 'continues': 0.05555555555555555, 'advance': 0.05555555555555555, 'essential': 0.05555555555555555, 'address': 0.05555555555555555, 'challenges': 0.05555555555555555, 'ensure': 0.05555555555555555, 'responsible': 0.05555555555555555, 'transparent': 0.05555555555555555, 'development': 0.05555555555555555, 'Implementing': 0.05555555555555555, 'robust': 0.05555555555555555, 'regulations': 0.05555555555555555, 'ethical': 0.05555555555555555, 'guidelines': 0.05555555555555555, 'mechanisms': 0.05555555555555555, 'accountability': 0.05555555555555555, 'harness': 0.05555555555555555, 'potential': 0.1111111111111111, 'mitigating': 0.05555555555555555, 'risks': 0.05555555555555555, 'conclusion': 0.05555555555555555, 'transformed': 0.05555555555555555, 'offering': 0.05555555555555555, 'innovative': 0.05555555555555555, 'solutions': 0.05555555555555555, 'unprecedented': 0.05555555555555555, 'progress': 0.05555555555555555, 'ability': 0.05555555555555555, 'recognize': 0.05555555555555555, 'intelligent': 0.05555555555555555, 'poised': 0.05555555555555555, 'shape': 0.05555555555555555, 'future': 0.05555555555555555, 'revolutionize': 0.05555555555555555, 'way': 0.05555555555555555, 'live': 0.05555555555555555, 'work': 0.05555555555555555}\n"
     ]
    }
   ],
   "source": [
    "for word in word_freq.keys():\n",
    "  word_freq[word] = word_freq[word] / max_freq\n",
    "\n",
    "print(word_freq)"
   ]
  },
  {
   "cell_type": "code",
   "execution_count": 11,
   "metadata": {
    "colab": {
     "base_uri": "https://localhost:8080/"
    },
    "id": "1YiQ9Ry-GZW9",
    "outputId": "984b8dd9-c4e7-46d9-903e-87caf2ab7743"
   },
   "outputs": [
    {
     "name": "stdout",
     "output_type": "stream",
     "text": [
      "[\"The rapid advancement of artificial intelligence (AI) has revolutionized various industries, including healthcare, finance, transportation, and entertainment., AI technologies, such as machine learning and natural language processing, have enabled computers to perform tasks that previously required human intelligence., From diagnosing diseases and predicting stock market trends to autonomous vehicles and virtual assistants, AI has become an integral part of our daily lives.\n",
      ", One of the significant applications of AI is in healthcare., Machine learning algorithms can analyze large amounts of medical data to assist in the early detection of diseases, identify patterns in patient records, and recommend personalized treatment plans., AI-powered diagnostic tools have shown promising results in detecting conditions like cancer, cardiovascular diseases, and neurological disorders, potentially saving lives and improving patient outcomes.\n",
      ", In the financial sector, AI algorithms are utilized for fraud detection, risk assessment, and algorithmic trading., These systems can analyze vast volumes of financial data in real-time, identify unusual patterns or transactions, and promptly alert authorities or financial institutions., Additionally, AI-powered chatbots and virtual assistants are transforming customer service by providing instant support and personalized recommendations to users.\n",
      ", Transportation has also witnessed significant advancements with AI., Self-driving cars and autonomous drones are being developed to improve road safety, enhance traffic management, and streamline logistics operations., AI algorithms can process sensor data, interpret complex environments, and make real-time decisions, enabling vehicles to navigate autonomously and avoid accidents., Furthermore, ride-sharing platforms leverage AI to optimize routes, match drivers with passengers, and enhance the overall user experience.\n",
      ", In the entertainment industry, AI has played a crucial role in content recommendation and creation., Streaming platforms and social media websites utilize machine learning algorithms to analyze user preferences and behavior, suggesting personalized movies, shows, or music., AI-powered systems can also generate creative content, such as artwork, music compositions, and even movie scripts, providing new possibilities for artists and filmmakers.\n",
      ", Despite the numerous benefits of AI, there are also concerns regarding ethics, privacy, and job displacement., As AI continues to advance, it is essential to address these challenges and ensure responsible and transparent AI development., Implementing robust regulations, ethical guidelines, and mechanisms for accountability will be crucial to harness the potential of AI while mitigating potential risks.\n",
      ", In conclusion, AI has transformed various industries, offering innovative solutions and driving unprecedented progress., With its ability to analyze vast amounts of data, recognize patterns, and make intelligent decisions, AI is poised to shape the future and revolutionize the way we live and work.]\n"
     ]
    }
   ],
   "source": [
    "sent_tokens = [sent for sent in doc.sents]\n",
    "print(sent_tokens)"
   ]
  },
  {
   "cell_type": "code",
   "execution_count": 12,
   "metadata": {
    "id": "E1I0ymK0GZZE"
   },
   "outputs": [],
   "source": [
    "sent_score = {}\n",
    "\n",
    "for sent in sent_tokens:\n",
    "  for word in sent:\n",
    "    if word.text.lower() in word_freq.keys():\n",
    "      if sent not in sent_score.keys():\n",
    "        sent_score[sent] = word_freq[word.text.lower()]\n",
    "      else:\n",
    "        sent_score[sent] += word_freq[word.text.lower()]\n"
   ]
  },
  {
   "cell_type": "code",
   "execution_count": 13,
   "metadata": {
    "colab": {
     "base_uri": "https://localhost:8080/"
    },
    "id": "AjQxJrJZJFJl",
    "outputId": "963f2272-816f-40a3-e06d-1f2d5426384e"
   },
   "outputs": [
    {
     "name": "stdout",
     "output_type": "stream",
     "text": [
      "{\"The rapid advancement of artificial intelligence (AI) has revolutionized various industries, including healthcare, finance, transportation, and entertainment.: 0.8333333333333335, AI technologies, such as machine learning and natural language processing, have enabled computers to perform tasks that previously required human intelligence.: 1.0000000000000002, From diagnosing diseases and predicting stock market trends to autonomous vehicles and virtual assistants, AI has become an integral part of our daily lives.\n",
      ": 1.1111111111111114, One of the significant applications of AI is in healthcare.: 0.2777777777777778, Machine learning algorithms can analyze large amounts of medical data to assist in the early detection of diseases, identify patterns in patient records, and recommend personalized treatment plans.: 2.3333333333333326, AI-powered diagnostic tools have shown promising results in detecting conditions like cancer, cardiovascular diseases, and neurological disorders, potentially saving lives and improving patient outcomes.\n",
      ": 1.4444444444444449, In the financial sector, AI algorithms are utilized for fraud detection, risk assessment, and algorithmic trading.: 0.8888888888888891, These systems can analyze vast volumes of financial data in real-time, identify unusual patterns or transactions, and promptly alert authorities or financial institutions.: 1.8888888888888893, Additionally, AI-powered chatbots and virtual assistants are transforming customer service by providing instant support and personalized recommendations to users.\n",
      ": 1.1111111111111114, Transportation has also witnessed significant advancements with AI.: 0.2777777777777778, Self-driving cars and autonomous drones are being developed to improve road safety, enhance traffic management, and streamline logistics operations.: 0.9444444444444446, AI algorithms can process sensor data, interpret complex environments, and make real-time decisions, enabling vehicles to navigate autonomously and avoid accidents.: 1.4444444444444449, Furthermore, ride-sharing platforms leverage AI to optimize routes, match drivers with passengers, and enhance the overall user experience.\n",
      ": 0.8888888888888891, In the entertainment industry, AI has played a crucial role in content recommendation and creation.: 0.611111111111111, Streaming platforms and social media websites utilize machine learning algorithms to analyze user preferences and behavior, suggesting personalized movies, shows, or music.: 1.7222222222222225, AI-powered systems can also generate creative content, such as artwork, music compositions, and even movie scripts, providing new possibilities for artists and filmmakers.\n",
      ": 1.166666666666667, Despite the numerous benefits of AI, there are also concerns regarding ethics, privacy, and job displacement.: 0.38888888888888895, As AI continues to advance, it is essential to address these challenges and ensure responsible and transparent AI development.: 0.5000000000000001, Implementing robust regulations, ethical guidelines, and mechanisms for accountability will be crucial to harness the potential of AI while mitigating potential risks.\n",
      ": 0.8333333333333335, In conclusion, AI has transformed various industries, offering innovative solutions and driving unprecedented progress.: 0.6111111111111112, With its ability to analyze vast amounts of data, recognize patterns, and make intelligent decisions, AI is poised to shape the future and revolutionize the way we live and work.: 1.5000000000000002}\n"
     ]
    }
   ],
   "source": [
    "print(sent_score)"
   ]
  },
  {
   "cell_type": "code",
   "execution_count": 14,
   "metadata": {
    "colab": {
     "base_uri": "https://localhost:8080/"
    },
    "id": "qdaxV3fEIVxd",
    "outputId": "a1504b4b-b807-416f-cec5-77309a76d3df"
   },
   "outputs": [
    {
     "data": {
      "text/plain": [
       "6.3"
      ]
     },
     "execution_count": 14,
     "metadata": {},
     "output_type": "execute_result"
    }
   ],
   "source": [
    "from heapq import nlargest\n",
    "\n",
    "len(sent_score) * 0.3"
   ]
  },
  {
   "cell_type": "code",
   "execution_count": 15,
   "metadata": {
    "colab": {
     "base_uri": "https://localhost:8080/"
    },
    "id": "6HgmjZr8JTxs",
    "outputId": "a14e41fb-4d1e-4899-e32c-d8be8487af4f"
   },
   "outputs": [
    {
     "name": "stdout",
     "output_type": "stream",
     "text": [
      "[Machine learning algorithms can analyze large amounts of medical data to assist in the early detection of diseases, identify patterns in patient records, and recommend personalized treatment plans., These systems can analyze vast volumes of financial data in real-time, identify unusual patterns or transactions, and promptly alert authorities or financial institutions., Streaming platforms and social media websites utilize machine learning algorithms to analyze user preferences and behavior, suggesting personalized movies, shows, or music., With its ability to analyze vast amounts of data, recognize patterns, and make intelligent decisions, AI is poised to shape the future and revolutionize the way we live and work., AI-powered diagnostic tools have shown promising results in detecting conditions like cancer, cardiovascular diseases, and neurological disorders, potentially saving lives and improving patient outcomes.\n",
      ", AI algorithms can process sensor data, interpret complex environments, and make real-time decisions, enabling vehicles to navigate autonomously and avoid accidents., AI-powered systems can also generate creative content, such as artwork, music compositions, and even movie scripts, providing new possibilities for artists and filmmakers.\n",
      ", From diagnosing diseases and predicting stock market trends to autonomous vehicles and virtual assistants, AI has become an integral part of our daily lives.\n",
      "]\n"
     ]
    }
   ],
   "source": [
    "summary = nlargest(8, iterable=sent_score, key = sent_score.get)\n",
    "print(summary)"
   ]
  },
  {
   "cell_type": "code",
   "execution_count": 16,
   "metadata": {
    "colab": {
     "base_uri": "https://localhost:8080/"
    },
    "id": "JNmlZCfXJTz3",
    "outputId": "0a50964b-839d-4a69-e900-e56065c3f5e5"
   },
   "outputs": [
    {
     "name": "stdout",
     "output_type": "stream",
     "text": [
      "['Machine learning algorithms can analyze large amounts of medical data to assist in the early detection of diseases, identify patterns in patient records, and recommend personalized treatment plans.', 'These systems can analyze vast volumes of financial data in real-time, identify unusual patterns or transactions, and promptly alert authorities or financial institutions.', 'Streaming platforms and social media websites utilize machine learning algorithms to analyze user preferences and behavior, suggesting personalized movies, shows, or music.', 'With its ability to analyze vast amounts of data, recognize patterns, and make intelligent decisions, AI is poised to shape the future and revolutionize the way we live and work.', 'AI-powered diagnostic tools have shown promising results in detecting conditions like cancer, cardiovascular diseases, and neurological disorders, potentially saving lives and improving patient outcomes.\\n', 'AI algorithms can process sensor data, interpret complex environments, and make real-time decisions, enabling vehicles to navigate autonomously and avoid accidents.', 'AI-powered systems can also generate creative content, such as artwork, music compositions, and even movie scripts, providing new possibilities for artists and filmmakers.\\n', 'From diagnosing diseases and predicting stock market trends to autonomous vehicles and virtual assistants, AI has become an integral part of our daily lives.\\n']\n"
     ]
    }
   ],
   "source": [
    "final_summary = [word.text for word in summary]\n",
    "\n",
    "print(final_summary)"
   ]
  },
  {
   "cell_type": "code",
   "execution_count": 17,
   "metadata": {
    "colab": {
     "base_uri": "https://localhost:8080/"
    },
    "id": "nniY1bEAJT2A",
    "outputId": "3f00a22c-ee51-427a-cd33-ae41c4a7b4bd"
   },
   "outputs": [
    {
     "name": "stdout",
     "output_type": "stream",
     "text": [
      "Machine learning algorithms can analyze large amounts of medical data to assist in the early detection of diseases, identify patterns in patient records, and recommend personalized treatment plans. These systems can analyze vast volumes of financial data in real-time, identify unusual patterns or transactions, and promptly alert authorities or financial institutions. Streaming platforms and social media websites utilize machine learning algorithms to analyze user preferences and behavior, suggesting personalized movies, shows, or music. With its ability to analyze vast amounts of data, recognize patterns, and make intelligent decisions, AI is poised to shape the future and revolutionize the way we live and work. AI-powered diagnostic tools have shown promising results in detecting conditions like cancer, cardiovascular diseases, and neurological disorders, potentially saving lives and improving patient outcomes.\n",
      " AI algorithms can process sensor data, interpret complex environments, and make real-time decisions, enabling vehicles to navigate autonomously and avoid accidents. AI-powered systems can also generate creative content, such as artwork, music compositions, and even movie scripts, providing new possibilities for artists and filmmakers.\n",
      " From diagnosing diseases and predicting stock market trends to autonomous vehicles and virtual assistants, AI has become an integral part of our daily lives.\n",
      "\n"
     ]
    }
   ],
   "source": [
    "summary = \" \".join(final_summary)\n",
    "\n",
    "print(summary)"
   ]
  },
  {
   "cell_type": "code",
   "execution_count": 4,
   "metadata": {
    "id": "HM4Q5QM4IVzu"
   },
   "outputs": [],
   "source": [
    "import tkinter as tk\n",
    "from tkinter import scrolledtext\n",
    "from tkinter import messagebox\n",
    "import spacy\n",
    "from spacy.lang.en.stop_words import STOP_WORDS\n",
    "from string import punctuation\n",
    "from heapq import nlargest\n",
    "\n",
    "# Load Spacy model\n",
    "nlp = spacy.load('en_core_web_sm')\n",
    "\n",
    "# Initialize punctuation\n",
    "punctuation = punctuation + '\\n'\n",
    "\n",
    "def summarize_text():\n",
    "    text = text_input.get(\"1.0\", tk.END)\n",
    "\n",
    "    # Perform text summarization\n",
    "    doc = nlp(text)\n",
    "    tokens = [token.text for token in doc]\n",
    "    word_freq = {}\n",
    "    stop_words = list(STOP_WORDS)\n",
    "\n",
    "    for word in doc:\n",
    "        if word.text.lower() not in stop_words:\n",
    "            if word.text.lower() not in punctuation:\n",
    "                if word.text not in word_freq.keys():\n",
    "                    word_freq[word.text] = 1\n",
    "                else:\n",
    "                    word_freq[word.text] += 1\n",
    "\n",
    "    max_freq = max(word_freq.values())\n",
    "\n",
    "    for word in word_freq.keys():\n",
    "        word_freq[word] = word_freq[word] / max_freq\n",
    "\n",
    "    sent_tokens = [sent for sent in doc.sents]\n",
    "\n",
    "    sent_score = {}\n",
    "\n",
    "    for sent in sent_tokens:\n",
    "        for word in sent:\n",
    "            if word.text.lower() in word_freq.keys():\n",
    "                if sent not in sent_score.keys():\n",
    "                    sent_score[sent] = word_freq[word.text.lower()]\n",
    "                else:\n",
    "                    sent_score[sent] += word_freq[word.text.lower()]\n",
    "\n",
    "    summary_length = int(len(sent_score) * 0.3)\n",
    "    summary = nlargest(summary_length, iterable=sent_score, key=sent_score.get)\n",
    "\n",
    "    final_summary = [word.text for word in summary]\n",
    "    summary = \" \".join(final_summary)\n",
    "\n",
    "    # Display the summary in the GUI\n",
    "    summary_output.delete(\"1.3\", tk.END)\n",
    "    summary_output.insert(tk.END, summary)\n",
    "\n",
    "# Create the GUI window\n",
    "root = tk.Tk()\n",
    "root.title(\"Text Summarizer\")\n",
    "root.geometry(\"700x550\")\n",
    "\n",
    "# Create input text area\n",
    "text_input = scrolledtext.ScrolledText(root, height=10, wrap=\"word\", padx=10, pady=10)\n",
    "text_input.pack(fill=\"both\", expand=True)\n",
    "\n",
    "# Create summary button\n",
    "summarize_button = tk.Button(root, text=\"Summarize\", command=summarize_text, relief=\"solid\", bd=1, bg=\"lightblue\", fg=\"black\", padx=10, pady=5)\n",
    "summarize_button.pack(pady=10)\n",
    "\n",
    "# Create output text area\n",
    "summary_output = scrolledtext.ScrolledText(root, height=10, wrap=\"word\", padx=10, pady=10)\n",
    "summary_output.pack(fill=\"both\", expand=True)\n",
    "\n",
    "# Start the GUI event loop\n",
    "root.mainloop()\n"
   ]
  },
  {
   "cell_type": "code",
   "execution_count": 5,
   "metadata": {
    "id": "X1_qzg8jIV2X"
   },
   "outputs": [],
   "source": []
  },
  {
   "cell_type": "code",
   "execution_count": null,
   "metadata": {
    "id": "IE5SwwhKGZbJ"
   },
   "outputs": [],
   "source": [
    "import tkinter as tk\n",
    "from tkinter import scrolledtext\n",
    "from tkinter import messagebox\n",
    "import spacy\n",
    "from spacy.lang.en.stop_words import STOP_WORDS\n",
    "from string import punctuation\n",
    "from heapq import nlargest\n",
    "import os\n",
    "\n",
    "# Load Spacy model\n",
    "nlp = spacy.load('en_core_web_sm')\n",
    "\n",
    "# Initialize punctuation\n",
    "punctuation = punctuation + '\\n'\n",
    "\n",
    "def summarize_text():\n",
    "    input_text = \"\"\n",
    "\n",
    "    if input_choice.get() == \"Text\":\n",
    "        input_text = text_input.get(\"1.0\", tk.END)\n",
    "    elif input_choice.get() == \"File\":\n",
    "        try:\n",
    "            with open(selected_file.get(), 'r') as file:\n",
    "                input_text = file.read()\n",
    "        except FileNotFoundError:\n",
    "            messagebox.showerror(\"Error\", \"Selected file not found.\")\n",
    "            return\n",
    "    \n",
    "    # Perform text summarization\n",
    "    doc = nlp(input_text)\n",
    "    tokens = [token.text for token in doc]\n",
    "    word_freq = {}\n",
    "    stop_words = list(STOP_WORDS)\n",
    "\n",
    "    for word in doc:\n",
    "        if word.text.lower() not in stop_words:\n",
    "            if word.text.lower() not in punctuation:\n",
    "                if word.text not in word_freq.keys():\n",
    "                    word_freq[word.text] = 1\n",
    "                else:\n",
    "                    word_freq[word.text] += 1\n",
    "\n",
    "    max_freq = max(word_freq.values())\n",
    "\n",
    "    for word in word_freq.keys():\n",
    "        word_freq[word] = word_freq[word] / max_freq\n",
    "\n",
    "    sent_tokens = [sent for sent in doc.sents]\n",
    "\n",
    "    sent_score = {}\n",
    "\n",
    "    for sent in sent_tokens:\n",
    "        for word in sent:\n",
    "            if word.text.lower() in word_freq.keys():\n",
    "                if sent not in sent_score.keys():\n",
    "                    sent_score[sent] = word_freq[word.text.lower()]\n",
    "                else:\n",
    "                    sent_score[sent] += word_freq[word.text.lower()]\n",
    "\n",
    "    summary_length = int(len(sent_score) * 0.3)\n",
    "    summary = nlargest(summary_length, iterable=sent_score, key=sent_score.get)\n",
    "\n",
    "    final_summary = [word.text for word in summary]\n",
    "    summary = \" \".join(final_summary)\n",
    "\n",
    "    # Display the summary in the GUI\n",
    "    summary_output.delete(\"1.3\", tk.END)\n",
    "    summary_output.insert(tk.END, summary)\n",
    "\n",
    "def select_file():\n",
    "    file_path = tk.filedialog.askopenfilename(filetypes=[(\"Text Files\", \"*.txt\")])\n",
    "    if file_path:\n",
    "        selected_file.set(file_path)\n",
    "        file_name = os.path.basename(file_path)\n",
    "        text_input.delete(\"1.0\", tk.END)\n",
    "        text_input.insert(tk.END, file_name)\n",
    "\n",
    "    \n",
    "# Create the GUI window\n",
    "root = tk.Tk()\n",
    "root.title(\"Text Summarizer\")\n",
    "root.geometry(\"700x550\")\n",
    "\n",
    "# Create input choice (text or file)\n",
    "input_choice = tk.StringVar()\n",
    "input_choice.set(\"Text\")\n",
    "\n",
    "\n",
    "\n",
    "# def toggle_select_file_button():\n",
    "#     if input_choice.get() == \"File\":\n",
    "#          select_file_button.pack(side=\"top\",padx=10)  # Pack the button below the file name\n",
    "#     else:\n",
    "#         select_file_button.pack_forget()\n",
    "\n",
    "\n",
    "# Create radio buttons for input choice\n",
    "text_input_radio = tk.Radiobutton(root, text=\"Text\", variable=input_choice, value=\"Text\")\n",
    "text_input_radio.pack(anchor=\"w\",padx=10)\n",
    "\n",
    "file_input_radio = tk.Radiobutton(root, text=\"File\", variable=input_choice, value=\"File\")\n",
    "file_input_radio.pack(anchor=\"w\",padx=10,pady=10)\n",
    "\n",
    "\n",
    "# Create select file button\n",
    "select_file_button = tk.Button(root, text=\"Select File\",  bg=\"green\", width=20 )  # Initially hide the button\n",
    "\n",
    "\n",
    "# Create input text area\n",
    "text_input = scrolledtext.ScrolledText(root, height=10, wrap=\"word\", padx=10, pady=10)\n",
    "text_input.pack(fill=\"both\", expand=True)\n",
    "\n",
    "# Create summary button\n",
    "summarize_button = tk.Button(root, text=\"Summarize\", command=summarize_text,width=25, relief=\"solid\", bd=3, bg=\"lightblue\", fg=\"black\", padx=10, pady=5)\n",
    "summarize_button.pack(pady=10)\n",
    "\n",
    "\n",
    "# Create output text area\n",
    "summary_output = scrolledtext.ScrolledText(root, height=10, wrap=\"word\", padx=10, pady=10)\n",
    "summary_output.pack(fill=\"both\", expand=True)\n",
    "\n",
    "\n",
    "# Variable to store selected file path\n",
    "selected_file = tk.StringVar()\n",
    "\n",
    "# Start the GUI event loop\n",
    "root.mainloop()\n"
   ]
  },
  {
   "cell_type": "code",
   "execution_count": null,
   "metadata": {},
   "outputs": [],
   "source": []
  },
  {
   "cell_type": "code",
   "execution_count": null,
   "metadata": {},
   "outputs": [],
   "source": []
  }
 ],
 "metadata": {
  "colab": {
   "provenance": [],
   "toc_visible": true
  },
  "kernelspec": {
   "display_name": "Python 3 (ipykernel)",
   "language": "python",
   "name": "python3"
  },
  "language_info": {
   "codemirror_mode": {
    "name": "ipython",
    "version": 3
   },
   "file_extension": ".py",
   "mimetype": "text/x-python",
   "name": "python",
   "nbconvert_exporter": "python",
   "pygments_lexer": "ipython3",
   "version": "3.9.7"
  }
 },
 "nbformat": 4,
 "nbformat_minor": 1
}
